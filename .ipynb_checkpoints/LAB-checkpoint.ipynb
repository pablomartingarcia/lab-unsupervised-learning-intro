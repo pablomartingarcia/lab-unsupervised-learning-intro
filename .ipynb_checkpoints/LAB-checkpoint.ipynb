{
 "cells": [
  {
   "cell_type": "code",
   "execution_count": 1,
   "id": "c6efb01c",
   "metadata": {},
   "outputs": [],
   "source": [
    "import pandas as pd\n",
    "\n",
    "data = pd.read_csv('/Users/suso/BootcampDA/Unit8/kaggle_spotify_dataset.csv')\n"
   ]
  },
  {
   "cell_type": "code",
   "execution_count": 2,
   "id": "e66481ad",
   "metadata": {},
   "outputs": [],
   "source": [
    "X = data[['danceability', 'energy', 'acousticness', 'valence', 'tempo']]"
   ]
  },
  {
   "cell_type": "code",
   "execution_count": 3,
   "id": "76449388",
   "metadata": {},
   "outputs": [],
   "source": [
    "from sklearn.cluster import KMeans\n",
    "\n",
    "kmeans = KMeans(n_clusters=5)  \n",
    "\n",
    "kmeans.fit(X)\n",
    "\n",
    "cluster_labels = kmeans.labels_"
   ]
  },
  {
   "cell_type": "code",
   "execution_count": 4,
   "id": "23603a6d",
   "metadata": {},
   "outputs": [
    {
     "name": "stdout",
     "output_type": "stream",
     "text": [
      "The new song belongs to cluster: 2\n"
     ]
    }
   ],
   "source": [
    "new_song_features = {'danceability': 0.75, 'energy': 0.85, 'acousticness': 0.3, 'valence': 0.65, 'tempo': 120}\n",
    "\n",
    "new_song_df = pd.DataFrame(new_song_features, index=[0])\n",
    "\n",
    "new_song_cluster = kmeans.predict(new_song_df)\n",
    "print(\"The new song belongs to cluster:\", new_song_cluster[0])"
   ]
  },
  {
   "cell_type": "code",
   "execution_count": null,
   "id": "ca8b6b5e",
   "metadata": {},
   "outputs": [],
   "source": []
  }
 ],
 "metadata": {
  "kernelspec": {
   "display_name": "Python 3 (ipykernel)",
   "language": "python",
   "name": "python3"
  },
  "language_info": {
   "codemirror_mode": {
    "name": "ipython",
    "version": 3
   },
   "file_extension": ".py",
   "mimetype": "text/x-python",
   "name": "python",
   "nbconvert_exporter": "python",
   "pygments_lexer": "ipython3",
   "version": "3.11.5"
  }
 },
 "nbformat": 4,
 "nbformat_minor": 5
}
